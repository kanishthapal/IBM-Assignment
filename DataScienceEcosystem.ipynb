{
 "cells": [
  {
   "cell_type": "markdown",
   "id": "2a71ecb8",
   "metadata": {},
   "source": [
    "# Data Science Tools and Ecosystem"
   ]
  },
  {
   "cell_type": "markdown",
   "id": "03794af2",
   "metadata": {},
   "source": [
    "In this notebook, Data Science Tools and Ecosystem are summarized."
   ]
  },
  {
   "cell_type": "markdown",
   "id": "d0e1906a",
   "metadata": {},
   "source": [
    "Some of the popular languages that Data Scientists use are:\n",
    "1. Python \n",
    "2. R\n",
    "3. SQL"
   ]
  },
  {
   "cell_type": "markdown",
   "id": "4c57b41b",
   "metadata": {},
   "source": [
    "**Objective:**\n",
    "    \n",
    "    List popular languages for Data Science:\n",
    "        \n",
    "        Python\n",
    "        R \n",
    "        SQl\n",
    "        Java, JavaScript\n",
    "        Julia\n",
    "        Scala"
   ]
  },
  {
   "cell_type": "markdown",
   "id": "61c63b95",
   "metadata": {},
   "source": [
    "Some of the commonly used libraries used by Data Scientists include:\n",
    "    \n",
    "    1. Tensorflow\n",
    "    2. Keras\n",
    "    3. Sklearn\n",
    "    4. Seaborn\n",
    "    etc.\n",
    "    "
   ]
  },
  {
   "cell_type": "markdown",
   "id": "e5ca7d4c",
   "metadata": {},
   "source": [
    "Some of the commonly used Data Science Tools:\n"
   ]
  },
  {
   "cell_type": "markdown",
   "id": "47a0e3a7",
   "metadata": {},
   "source": [
    "|**Data Science Tools**|\n",
    "------------------------\n",
    "    |Jupyter Notebook, R |\n",
    "    | SAS|\n",
    "    | Apache Spark|"
   ]
  },
  {
   "cell_type": "markdown",
   "id": "5fc88421",
   "metadata": {},
   "source": [
    "### Below are a few examples of evaluating arithmetic expressions in Python"
   ]
  },
  {
   "cell_type": "code",
   "execution_count": 1,
   "id": "c417e7e2",
   "metadata": {},
   "outputs": [
    {
     "name": "stdout",
     "output_type": "stream",
     "text": [
      "5\n"
     ]
    }
   ],
   "source": [
    "sum = 2+3\n",
    "print(sum)"
   ]
  },
  {
   "cell_type": "code",
   "execution_count": 2,
   "id": "5dbb86ba",
   "metadata": {},
   "outputs": [
    {
     "name": "stdout",
     "output_type": "stream",
     "text": [
      "16\n"
     ]
    }
   ],
   "source": [
    "a = 2\n",
    "b = 6\n",
    "x = 2*(a+b)\n",
    "print(x)"
   ]
  },
  {
   "cell_type": "markdown",
   "id": "8e909005",
   "metadata": {},
   "source": [
    "#### Create a code cell to multiply and add numbers"
   ]
  },
  {
   "cell_type": "code",
   "execution_count": 3,
   "id": "26b28482",
   "metadata": {},
   "outputs": [
    {
     "data": {
      "text/plain": [
       "17"
      ]
     },
     "execution_count": 3,
     "metadata": {},
     "output_type": "execute_result"
    }
   ],
   "source": [
    "x = (3*4)+5\n",
    "x  #result"
   ]
  },
  {
   "cell_type": "markdown",
   "id": "04ac40c9",
   "metadata": {},
   "source": [
    "#### Create a code cell to convert minutes to hours"
   ]
  },
  {
   "cell_type": "code",
   "execution_count": 4,
   "id": "cfff4371",
   "metadata": {},
   "outputs": [
    {
     "name": "stdout",
     "output_type": "stream",
     "text": [
      "200 minutes to hours: 3.3333333333333335\n"
     ]
    }
   ],
   "source": [
    "min = 200\n",
    "hours = min/ 60 #This will convert 200 minutes to hours by diving by 60\n",
    "print(\"200 minutes to hours:\", hours)"
   ]
  },
  {
   "cell_type": "code",
   "execution_count": null,
   "id": "becf4c16",
   "metadata": {},
   "outputs": [],
   "source": []
  }
 ],
 "metadata": {
  "kernelspec": {
   "display_name": "Python 3 (ipykernel)",
   "language": "python",
   "name": "python3"
  },
  "language_info": {
   "codemirror_mode": {
    "name": "ipython",
    "version": 3
   },
   "file_extension": ".py",
   "mimetype": "text/x-python",
   "name": "python",
   "nbconvert_exporter": "python",
   "pygments_lexer": "ipython3",
   "version": "3.9.7"
  }
 },
 "nbformat": 4,
 "nbformat_minor": 5
}
